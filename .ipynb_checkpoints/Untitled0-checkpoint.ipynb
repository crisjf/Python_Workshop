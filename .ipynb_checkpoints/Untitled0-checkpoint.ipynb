{
 "metadata": {
  "name": "",
  "signature": "sha256:6e9bd9af23d6cdc4d5845f360bdb374a3a46f12883c0671ffa406a84cf6c760b"
 },
 "nbformat": 3,
 "nbformat_minor": 0,
 "worksheets": []
}