{
 "cells": [
  {
   "cell_type": "markdown",
   "metadata": {},
   "source": [
    "# Chapter 1, Part 4; Pandas"
   ]
  },
  {
   "cell_type": "markdown",
   "metadata": {},
   "source": [
    "## Exercise 1"
   ]
  },
  {
   "cell_type": "markdown",
   "metadata": {},
   "source": [
    "Load the file **boston_temperature.csv** to a pandas DataFrame, and plot the average temperature in Boston. You don't need to specify an X axis at this point.\n",
    "\n",
    "*Remember that you want to read **boston_temperature.csv**, NOT **boston_temperature_last3months.csv***"
   ]
  },
  {
   "cell_type": "markdown",
   "metadata": {},
   "source": [
    "### Tips for exercise 1"
   ]
  },
  {
   "cell_type": "markdown",
   "metadata": {},
   "source": [
    "A very usefull package for manipulating data in python is *pandas*. To load a csv file into a DataFrame named *data* simply type:"
   ]
  },
  {
   "cell_type": "code",
   "execution_count": 3,
   "metadata": {
    "collapsed": false
   },
   "outputs": [],
   "source": [
    "data=pd.read_csv('boston_temperature_last3months.csv')"
   ]
  },
  {
   "cell_type": "markdown",
   "metadata": {},
   "source": [
    "If you want to have a quick peek at your DataFrame type its name and run the line"
   ]
  },
  {
   "cell_type": "code",
   "execution_count": 54,
   "metadata": {
    "collapsed": false
   },
   "outputs": [
    {
     "data": {
      "text/html": [
       "<div style=\"max-height:1000px;max-width:1500px;overflow:auto;\">\n",
       "<table border=\"1\" class=\"dataframe\">\n",
       "  <thead>\n",
       "    <tr style=\"text-align: right;\">\n",
       "      <th></th>\n",
       "      <th>year</th>\n",
       "      <th>month</th>\n",
       "      <th>day</th>\n",
       "      <th>Tmax</th>\n",
       "      <th>Tav</th>\n",
       "      <th>Tmin</th>\n",
       "    </tr>\n",
       "  </thead>\n",
       "  <tbody>\n",
       "    <tr>\n",
       "      <th>0 </th>\n",
       "      <td> 2014</td>\n",
       "      <td> 12</td>\n",
       "      <td>  1</td>\n",
       "      <td> 64</td>\n",
       "      <td> 52</td>\n",
       "      <td> 39</td>\n",
       "    </tr>\n",
       "    <tr>\n",
       "      <th>1 </th>\n",
       "      <td> 2014</td>\n",
       "      <td> 12</td>\n",
       "      <td>  2</td>\n",
       "      <td> 42</td>\n",
       "      <td> 38</td>\n",
       "      <td> 33</td>\n",
       "    </tr>\n",
       "    <tr>\n",
       "      <th>2 </th>\n",
       "      <td> 2014</td>\n",
       "      <td> 12</td>\n",
       "      <td>  3</td>\n",
       "      <td> 51</td>\n",
       "      <td> 44</td>\n",
       "      <td> 37</td>\n",
       "    </tr>\n",
       "    <tr>\n",
       "      <th>3 </th>\n",
       "      <td> 2014</td>\n",
       "      <td> 12</td>\n",
       "      <td>  4</td>\n",
       "      <td> 43</td>\n",
       "      <td> 37</td>\n",
       "      <td> 30</td>\n",
       "    </tr>\n",
       "    <tr>\n",
       "      <th>4 </th>\n",
       "      <td> 2014</td>\n",
       "      <td> 12</td>\n",
       "      <td>  5</td>\n",
       "      <td> 42</td>\n",
       "      <td> 34</td>\n",
       "      <td> 26</td>\n",
       "    </tr>\n",
       "    <tr>\n",
       "      <th>5 </th>\n",
       "      <td> 2014</td>\n",
       "      <td> 12</td>\n",
       "      <td>  6</td>\n",
       "      <td> 45</td>\n",
       "      <td> 42</td>\n",
       "      <td> 38</td>\n",
       "    </tr>\n",
       "    <tr>\n",
       "      <th>6 </th>\n",
       "      <td> 2014</td>\n",
       "      <td> 12</td>\n",
       "      <td>  7</td>\n",
       "      <td> 38</td>\n",
       "      <td> 30</td>\n",
       "      <td> 21</td>\n",
       "    </tr>\n",
       "    <tr>\n",
       "      <th>7 </th>\n",
       "      <td> 2014</td>\n",
       "      <td> 12</td>\n",
       "      <td>  8</td>\n",
       "      <td> 29</td>\n",
       "      <td> 24</td>\n",
       "      <td> 18</td>\n",
       "    </tr>\n",
       "    <tr>\n",
       "      <th>8 </th>\n",
       "      <td> 2014</td>\n",
       "      <td> 12</td>\n",
       "      <td>  9</td>\n",
       "      <td> 49</td>\n",
       "      <td> 39</td>\n",
       "      <td> 29</td>\n",
       "    </tr>\n",
       "    <tr>\n",
       "      <th>9 </th>\n",
       "      <td> 2014</td>\n",
       "      <td> 12</td>\n",
       "      <td> 10</td>\n",
       "      <td> 48</td>\n",
       "      <td> 43</td>\n",
       "      <td> 38</td>\n",
       "    </tr>\n",
       "    <tr>\n",
       "      <th>10</th>\n",
       "      <td> 2014</td>\n",
       "      <td> 12</td>\n",
       "      <td> 11</td>\n",
       "      <td> 39</td>\n",
       "      <td> 36</td>\n",
       "      <td> 32</td>\n",
       "    </tr>\n",
       "    <tr>\n",
       "      <th>11</th>\n",
       "      <td> 2014</td>\n",
       "      <td> 12</td>\n",
       "      <td> 12</td>\n",
       "      <td> 39</td>\n",
       "      <td> 35</td>\n",
       "      <td> 31</td>\n",
       "    </tr>\n",
       "    <tr>\n",
       "      <th>12</th>\n",
       "      <td> 2014</td>\n",
       "      <td> 12</td>\n",
       "      <td> 13</td>\n",
       "      <td> 42</td>\n",
       "      <td> 37</td>\n",
       "      <td> 32</td>\n",
       "    </tr>\n",
       "    <tr>\n",
       "      <th>13</th>\n",
       "      <td> 2014</td>\n",
       "      <td> 12</td>\n",
       "      <td> 14</td>\n",
       "      <td> 45</td>\n",
       "      <td> 39</td>\n",
       "      <td> 33</td>\n",
       "    </tr>\n",
       "    <tr>\n",
       "      <th>14</th>\n",
       "      <td> 2014</td>\n",
       "      <td> 12</td>\n",
       "      <td> 15</td>\n",
       "      <td> 42</td>\n",
       "      <td> 37</td>\n",
       "      <td> 32</td>\n",
       "    </tr>\n",
       "    <tr>\n",
       "      <th>15</th>\n",
       "      <td> 2014</td>\n",
       "      <td> 12</td>\n",
       "      <td> 16</td>\n",
       "      <td> 44</td>\n",
       "      <td> 40</td>\n",
       "      <td> 35</td>\n",
       "    </tr>\n",
       "    <tr>\n",
       "      <th>16</th>\n",
       "      <td> 2014</td>\n",
       "      <td> 12</td>\n",
       "      <td> 17</td>\n",
       "      <td> 49</td>\n",
       "      <td> 45</td>\n",
       "      <td> 41</td>\n",
       "    </tr>\n",
       "    <tr>\n",
       "      <th>17</th>\n",
       "      <td> 2014</td>\n",
       "      <td> 12</td>\n",
       "      <td> 18</td>\n",
       "      <td> 44</td>\n",
       "      <td> 40</td>\n",
       "      <td> 36</td>\n",
       "    </tr>\n",
       "    <tr>\n",
       "      <th>18</th>\n",
       "      <td> 2014</td>\n",
       "      <td> 12</td>\n",
       "      <td> 19</td>\n",
       "      <td> 37</td>\n",
       "      <td> 33</td>\n",
       "      <td> 29</td>\n",
       "    </tr>\n",
       "    <tr>\n",
       "      <th>19</th>\n",
       "      <td> 2014</td>\n",
       "      <td> 12</td>\n",
       "      <td> 20</td>\n",
       "      <td> 36</td>\n",
       "      <td> 32</td>\n",
       "      <td> 27</td>\n",
       "    </tr>\n",
       "    <tr>\n",
       "      <th>20</th>\n",
       "      <td> 2014</td>\n",
       "      <td> 12</td>\n",
       "      <td> 21</td>\n",
       "      <td> 36</td>\n",
       "      <td> 33</td>\n",
       "      <td> 30</td>\n",
       "    </tr>\n",
       "    <tr>\n",
       "      <th>21</th>\n",
       "      <td> 2014</td>\n",
       "      <td> 12</td>\n",
       "      <td> 22</td>\n",
       "      <td> 44</td>\n",
       "      <td> 39</td>\n",
       "      <td> 33</td>\n",
       "    </tr>\n",
       "    <tr>\n",
       "      <th>22</th>\n",
       "      <td> 2014</td>\n",
       "      <td> 12</td>\n",
       "      <td> 23</td>\n",
       "      <td> 47</td>\n",
       "      <td> 45</td>\n",
       "      <td> 42</td>\n",
       "    </tr>\n",
       "    <tr>\n",
       "      <th>23</th>\n",
       "      <td> 2014</td>\n",
       "      <td> 12</td>\n",
       "      <td> 24</td>\n",
       "      <td> 46</td>\n",
       "      <td> 44</td>\n",
       "      <td> 41</td>\n",
       "    </tr>\n",
       "    <tr>\n",
       "      <th>24</th>\n",
       "      <td> 2014</td>\n",
       "      <td> 12</td>\n",
       "      <td> 25</td>\n",
       "      <td> 59</td>\n",
       "      <td> 52</td>\n",
       "      <td> 44</td>\n",
       "    </tr>\n",
       "    <tr>\n",
       "      <th>25</th>\n",
       "      <td> 2014</td>\n",
       "      <td> 12</td>\n",
       "      <td> 26</td>\n",
       "      <td> 50</td>\n",
       "      <td> 44</td>\n",
       "      <td> 37</td>\n",
       "    </tr>\n",
       "    <tr>\n",
       "      <th>26</th>\n",
       "      <td> 2014</td>\n",
       "      <td> 12</td>\n",
       "      <td> 27</td>\n",
       "      <td> 52</td>\n",
       "      <td> 45</td>\n",
       "      <td> 38</td>\n",
       "    </tr>\n",
       "    <tr>\n",
       "      <th>27</th>\n",
       "      <td> 2014</td>\n",
       "      <td> 12</td>\n",
       "      <td> 28</td>\n",
       "      <td> 52</td>\n",
       "      <td> 46</td>\n",
       "      <td> 40</td>\n",
       "    </tr>\n",
       "    <tr>\n",
       "      <th>28</th>\n",
       "      <td> 2014</td>\n",
       "      <td> 12</td>\n",
       "      <td> 29</td>\n",
       "      <td> 41</td>\n",
       "      <td> 36</td>\n",
       "      <td> 30</td>\n",
       "    </tr>\n",
       "    <tr>\n",
       "      <th>29</th>\n",
       "      <td> 2014</td>\n",
       "      <td> 12</td>\n",
       "      <td> 30</td>\n",
       "      <td> 30</td>\n",
       "      <td> 26</td>\n",
       "      <td> 22</td>\n",
       "    </tr>\n",
       "    <tr>\n",
       "      <th>...</th>\n",
       "      <td>...</td>\n",
       "      <td>...</td>\n",
       "      <td>...</td>\n",
       "      <td>...</td>\n",
       "      <td>...</td>\n",
       "      <td>...</td>\n",
       "    </tr>\n",
       "    <tr>\n",
       "      <th>54</th>\n",
       "      <td> 2015</td>\n",
       "      <td>  1</td>\n",
       "      <td> 24</td>\n",
       "      <td> 34</td>\n",
       "      <td> 33</td>\n",
       "      <td> 31</td>\n",
       "    </tr>\n",
       "    <tr>\n",
       "      <th>55</th>\n",
       "      <td> 2015</td>\n",
       "      <td>  1</td>\n",
       "      <td> 25</td>\n",
       "      <td> 38</td>\n",
       "      <td> 29</td>\n",
       "      <td> 19</td>\n",
       "    </tr>\n",
       "    <tr>\n",
       "      <th>56</th>\n",
       "      <td> 2015</td>\n",
       "      <td>  1</td>\n",
       "      <td> 26</td>\n",
       "      <td> 29</td>\n",
       "      <td> 20</td>\n",
       "      <td> 11</td>\n",
       "    </tr>\n",
       "    <tr>\n",
       "      <th>57</th>\n",
       "      <td> 2015</td>\n",
       "      <td>  1</td>\n",
       "      <td> 27</td>\n",
       "      <td> 19</td>\n",
       "      <td> 17</td>\n",
       "      <td> 14</td>\n",
       "    </tr>\n",
       "    <tr>\n",
       "      <th>58</th>\n",
       "      <td> 2015</td>\n",
       "      <td>  1</td>\n",
       "      <td> 28</td>\n",
       "      <td> 24</td>\n",
       "      <td> 19</td>\n",
       "      <td> 13</td>\n",
       "    </tr>\n",
       "    <tr>\n",
       "      <th>59</th>\n",
       "      <td> 2015</td>\n",
       "      <td>  1</td>\n",
       "      <td> 29</td>\n",
       "      <td> 32</td>\n",
       "      <td> 21</td>\n",
       "      <td> 10</td>\n",
       "    </tr>\n",
       "    <tr>\n",
       "      <th>60</th>\n",
       "      <td> 2015</td>\n",
       "      <td>  1</td>\n",
       "      <td> 30</td>\n",
       "      <td> 34</td>\n",
       "      <td> 27</td>\n",
       "      <td> 19</td>\n",
       "    </tr>\n",
       "    <tr>\n",
       "      <th>61</th>\n",
       "      <td> 2015</td>\n",
       "      <td>  1</td>\n",
       "      <td> 31</td>\n",
       "      <td> 21</td>\n",
       "      <td> 16</td>\n",
       "      <td> 11</td>\n",
       "    </tr>\n",
       "    <tr>\n",
       "      <th>62</th>\n",
       "      <td> 2015</td>\n",
       "      <td>  2</td>\n",
       "      <td>  1</td>\n",
       "      <td> 30</td>\n",
       "      <td> 21</td>\n",
       "      <td> 12</td>\n",
       "    </tr>\n",
       "    <tr>\n",
       "      <th>63</th>\n",
       "      <td> 2015</td>\n",
       "      <td>  2</td>\n",
       "      <td>  2</td>\n",
       "      <td> 31</td>\n",
       "      <td> 21</td>\n",
       "      <td> 10</td>\n",
       "    </tr>\n",
       "    <tr>\n",
       "      <th>64</th>\n",
       "      <td> 2015</td>\n",
       "      <td>  2</td>\n",
       "      <td>  3</td>\n",
       "      <td> 22</td>\n",
       "      <td> 14</td>\n",
       "      <td>  6</td>\n",
       "    </tr>\n",
       "    <tr>\n",
       "      <th>65</th>\n",
       "      <td> 2015</td>\n",
       "      <td>  2</td>\n",
       "      <td>  4</td>\n",
       "      <td> 38</td>\n",
       "      <td> 26</td>\n",
       "      <td> 14</td>\n",
       "    </tr>\n",
       "    <tr>\n",
       "      <th>66</th>\n",
       "      <td> 2015</td>\n",
       "      <td>  2</td>\n",
       "      <td>  5</td>\n",
       "      <td> 36</td>\n",
       "      <td> 22</td>\n",
       "      <td>  7</td>\n",
       "    </tr>\n",
       "    <tr>\n",
       "      <th>67</th>\n",
       "      <td> 2015</td>\n",
       "      <td>  2</td>\n",
       "      <td>  6</td>\n",
       "      <td> 21</td>\n",
       "      <td> 13</td>\n",
       "      <td>  5</td>\n",
       "    </tr>\n",
       "    <tr>\n",
       "      <th>68</th>\n",
       "      <td> 2015</td>\n",
       "      <td>  2</td>\n",
       "      <td>  7</td>\n",
       "      <td> 29</td>\n",
       "      <td> 23</td>\n",
       "      <td> 16</td>\n",
       "    </tr>\n",
       "    <tr>\n",
       "      <th>69</th>\n",
       "      <td> 2015</td>\n",
       "      <td>  2</td>\n",
       "      <td>  8</td>\n",
       "      <td> 29</td>\n",
       "      <td> 21</td>\n",
       "      <td> 13</td>\n",
       "    </tr>\n",
       "    <tr>\n",
       "      <th>70</th>\n",
       "      <td> 2015</td>\n",
       "      <td>  2</td>\n",
       "      <td>  9</td>\n",
       "      <td> 25</td>\n",
       "      <td> 20</td>\n",
       "      <td> 14</td>\n",
       "    </tr>\n",
       "    <tr>\n",
       "      <th>71</th>\n",
       "      <td> 2015</td>\n",
       "      <td>  2</td>\n",
       "      <td> 10</td>\n",
       "      <td> 30</td>\n",
       "      <td> 22</td>\n",
       "      <td> 14</td>\n",
       "    </tr>\n",
       "    <tr>\n",
       "      <th>72</th>\n",
       "      <td> 2015</td>\n",
       "      <td>  2</td>\n",
       "      <td> 11</td>\n",
       "      <td> 25</td>\n",
       "      <td> 20</td>\n",
       "      <td> 14</td>\n",
       "    </tr>\n",
       "    <tr>\n",
       "      <th>73</th>\n",
       "      <td> 2015</td>\n",
       "      <td>  2</td>\n",
       "      <td> 12</td>\n",
       "      <td> 30</td>\n",
       "      <td> 23</td>\n",
       "      <td> 16</td>\n",
       "    </tr>\n",
       "    <tr>\n",
       "      <th>74</th>\n",
       "      <td> 2015</td>\n",
       "      <td>  2</td>\n",
       "      <td> 13</td>\n",
       "      <td> 22</td>\n",
       "      <td> 15</td>\n",
       "      <td>  7</td>\n",
       "    </tr>\n",
       "    <tr>\n",
       "      <th>75</th>\n",
       "      <td> 2015</td>\n",
       "      <td>  2</td>\n",
       "      <td> 14</td>\n",
       "      <td> 30</td>\n",
       "      <td> 17</td>\n",
       "      <td>  3</td>\n",
       "    </tr>\n",
       "    <tr>\n",
       "      <th>76</th>\n",
       "      <td> 2015</td>\n",
       "      <td>  2</td>\n",
       "      <td> 15</td>\n",
       "      <td> 20</td>\n",
       "      <td>  9</td>\n",
       "      <td> -2</td>\n",
       "    </tr>\n",
       "    <tr>\n",
       "      <th>77</th>\n",
       "      <td> 2015</td>\n",
       "      <td>  2</td>\n",
       "      <td> 16</td>\n",
       "      <td> 19</td>\n",
       "      <td>  8</td>\n",
       "      <td> -3</td>\n",
       "    </tr>\n",
       "    <tr>\n",
       "      <th>78</th>\n",
       "      <td> 2015</td>\n",
       "      <td>  2</td>\n",
       "      <td> 17</td>\n",
       "      <td> 23</td>\n",
       "      <td> 17</td>\n",
       "      <td> 10</td>\n",
       "    </tr>\n",
       "    <tr>\n",
       "      <th>79</th>\n",
       "      <td> 2015</td>\n",
       "      <td>  2</td>\n",
       "      <td> 18</td>\n",
       "      <td> 29</td>\n",
       "      <td> 23</td>\n",
       "      <td> 17</td>\n",
       "    </tr>\n",
       "    <tr>\n",
       "      <th>80</th>\n",
       "      <td> 2015</td>\n",
       "      <td>  2</td>\n",
       "      <td> 19</td>\n",
       "      <td> 30</td>\n",
       "      <td> 20</td>\n",
       "      <td> 10</td>\n",
       "    </tr>\n",
       "    <tr>\n",
       "      <th>81</th>\n",
       "      <td> 2015</td>\n",
       "      <td>  2</td>\n",
       "      <td> 20</td>\n",
       "      <td> 20</td>\n",
       "      <td> 13</td>\n",
       "      <td>  5</td>\n",
       "    </tr>\n",
       "    <tr>\n",
       "      <th>82</th>\n",
       "      <td> 2015</td>\n",
       "      <td>  2</td>\n",
       "      <td> 21</td>\n",
       "      <td> 34</td>\n",
       "      <td> 19</td>\n",
       "      <td>  4</td>\n",
       "    </tr>\n",
       "    <tr>\n",
       "      <th>83</th>\n",
       "      <td> 2015</td>\n",
       "      <td>  2</td>\n",
       "      <td> 22</td>\n",
       "      <td> 39</td>\n",
       "      <td> 36</td>\n",
       "      <td> 32</td>\n",
       "    </tr>\n",
       "  </tbody>\n",
       "</table>\n",
       "<p>84 rows × 6 columns</p>\n",
       "</div>"
      ],
      "text/plain": [
       "    year  month  day  Tmax  Tav  Tmin\n",
       "0   2014     12    1    64   52    39\n",
       "1   2014     12    2    42   38    33\n",
       "2   2014     12    3    51   44    37\n",
       "3   2014     12    4    43   37    30\n",
       "4   2014     12    5    42   34    26\n",
       "5   2014     12    6    45   42    38\n",
       "6   2014     12    7    38   30    21\n",
       "7   2014     12    8    29   24    18\n",
       "8   2014     12    9    49   39    29\n",
       "9   2014     12   10    48   43    38\n",
       "10  2014     12   11    39   36    32\n",
       "11  2014     12   12    39   35    31\n",
       "12  2014     12   13    42   37    32\n",
       "13  2014     12   14    45   39    33\n",
       "14  2014     12   15    42   37    32\n",
       "15  2014     12   16    44   40    35\n",
       "16  2014     12   17    49   45    41\n",
       "17  2014     12   18    44   40    36\n",
       "18  2014     12   19    37   33    29\n",
       "19  2014     12   20    36   32    27\n",
       "20  2014     12   21    36   33    30\n",
       "21  2014     12   22    44   39    33\n",
       "22  2014     12   23    47   45    42\n",
       "23  2014     12   24    46   44    41\n",
       "24  2014     12   25    59   52    44\n",
       "25  2014     12   26    50   44    37\n",
       "26  2014     12   27    52   45    38\n",
       "27  2014     12   28    52   46    40\n",
       "28  2014     12   29    41   36    30\n",
       "29  2014     12   30    30   26    22\n",
       "..   ...    ...  ...   ...  ...   ...\n",
       "54  2015      1   24    34   33    31\n",
       "55  2015      1   25    38   29    19\n",
       "56  2015      1   26    29   20    11\n",
       "57  2015      1   27    19   17    14\n",
       "58  2015      1   28    24   19    13\n",
       "59  2015      1   29    32   21    10\n",
       "60  2015      1   30    34   27    19\n",
       "61  2015      1   31    21   16    11\n",
       "62  2015      2    1    30   21    12\n",
       "63  2015      2    2    31   21    10\n",
       "64  2015      2    3    22   14     6\n",
       "65  2015      2    4    38   26    14\n",
       "66  2015      2    5    36   22     7\n",
       "67  2015      2    6    21   13     5\n",
       "68  2015      2    7    29   23    16\n",
       "69  2015      2    8    29   21    13\n",
       "70  2015      2    9    25   20    14\n",
       "71  2015      2   10    30   22    14\n",
       "72  2015      2   11    25   20    14\n",
       "73  2015      2   12    30   23    16\n",
       "74  2015      2   13    22   15     7\n",
       "75  2015      2   14    30   17     3\n",
       "76  2015      2   15    20    9    -2\n",
       "77  2015      2   16    19    8    -3\n",
       "78  2015      2   17    23   17    10\n",
       "79  2015      2   18    29   23    17\n",
       "80  2015      2   19    30   20    10\n",
       "81  2015      2   20    20   13     5\n",
       "82  2015      2   21    34   19     4\n",
       "83  2015      2   22    39   36    32\n",
       "\n",
       "[84 rows x 6 columns]"
      ]
     },
     "execution_count": 54,
     "metadata": {},
     "output_type": "execute_result"
    }
   ],
   "source": [
    "data"
   ]
  },
  {
   "cell_type": "markdown",
   "metadata": {},
   "source": [
    "Pandas allows you to select a column from a DataFrame using the name of the column. You get as a result another object called a Series; this object includes the values of the columns together with the name of each row."
   ]
  },
  {
   "cell_type": "code",
   "execution_count": 56,
   "metadata": {
    "collapsed": false
   },
   "outputs": [
    {
     "name": "stdout",
     "output_type": "stream",
     "text": [
      "0     39\n",
      "1     33\n",
      "2     37\n",
      "3     30\n",
      "4     26\n",
      "5     38\n",
      "6     21\n",
      "7     18\n",
      "8     29\n",
      "9     38\n",
      "10    32\n",
      "11    31\n",
      "12    32\n",
      "13    33\n",
      "14    32\n",
      "...\n",
      "69    13\n",
      "70    14\n",
      "71    14\n",
      "72    14\n",
      "73    16\n",
      "74     7\n",
      "75     3\n",
      "76    -2\n",
      "77    -3\n",
      "78    10\n",
      "79    17\n",
      "80    10\n",
      "81     5\n",
      "82     4\n",
      "83    32\n",
      "Name: Tmin, Length: 84, dtype: int64\n"
     ]
    }
   ],
   "source": [
    "print data['Tmin']"
   ]
  },
  {
   "cell_type": "markdown",
   "metadata": {},
   "source": [
    "You can use *values* to generate an array that contains only the values of the column."
   ]
  },
  {
   "cell_type": "code",
   "execution_count": 57,
   "metadata": {
    "collapsed": false
   },
   "outputs": [
    {
     "name": "stdout",
     "output_type": "stream",
     "text": [
      "[39 33 37 30 26 38 21 18 29 38 32 31 32 33 32 35 41 36 29 27 30 33 42 41 44\n",
      " 37 38 40 30 22 20 22 31 22 35 17 15  4 -1 19 17 15 33 15 14 25 15  9 20 32\n",
      " 27 22 29 24 31 19 11 14 13 10 19 11 12 10  6 14  7  5 16 13 14 14 14 16  7\n",
      "  3 -2 -3 10 17 10  5  4 32]\n"
     ]
    }
   ],
   "source": [
    "T=data['Tmin'].values\n",
    "print T"
   ]
  },
  {
   "cell_type": "markdown",
   "metadata": {},
   "source": [
    "### Write your code here"
   ]
  },
  {
   "cell_type": "code",
   "execution_count": null,
   "metadata": {
    "collapsed": false
   },
   "outputs": [],
   "source": []
  },
  {
   "cell_type": "markdown",
   "metadata": {},
   "source": [
    "## Exercise 2"
   ]
  },
  {
   "cell_type": "markdown",
   "metadata": {},
   "source": [
    "Convert every date to years; approximate each month as $\\frac{1}{12}$ of a year and each day as $\\frac{1}{30}$ of a month, and save this into a new column of the DataFrame. Then plot the temperature vs. this new time variable."
   ]
  },
  {
   "cell_type": "markdown",
   "metadata": {},
   "source": [
    "### Tips for exercise 2"
   ]
  },
  {
   "cell_type": "markdown",
   "metadata": {},
   "source": [
    "To add a column to a DataFrame you can start with a list, a numpy array, a series, or any other column from the same DataFrame. The only thing you have to take care of is that the array (or list) is the same length as the DataFrame. \n",
    "\n",
    "If we want to create the new column 'time' we do:"
   ]
  },
  {
   "cell_type": "code",
   "execution_count": 61,
   "metadata": {
    "collapsed": false
   },
   "outputs": [],
   "source": [
    "data['time']=data['year']-1.+data['month']/12.+data['day']/(30.*12.)"
   ]
  },
  {
   "cell_type": "markdown",
   "metadata": {},
   "source": [
    "### Write your code here"
   ]
  },
  {
   "cell_type": "code",
   "execution_count": null,
   "metadata": {
    "collapsed": false
   },
   "outputs": [],
   "source": []
  },
  {
   "cell_type": "markdown",
   "metadata": {},
   "source": [
    "## Exercise 3"
   ]
  },
  {
   "cell_type": "markdown",
   "metadata": {},
   "source": [
    "Calculate the average temperature by year and save it into a file. You should create a new DataFrame to do this."
   ]
  },
  {
   "cell_type": "markdown",
   "metadata": {},
   "source": [
    "### Tips for exercise 3"
   ]
  },
  {
   "cell_type": "markdown",
   "metadata": {},
   "source": [
    "The benefit of loading your data into a DataFrame is that pandas has many functions to manipulate data, including, but not limited to: merging two tables, filtering rows by condition, pivoting data, and grouping rows by condition.\n",
    "\n",
    "To group rows according to same year, use the mean as a grouping function, and generate a new DataFrame named data_year write:"
   ]
  },
  {
   "cell_type": "code",
   "execution_count": 66,
   "metadata": {
    "collapsed": false
   },
   "outputs": [],
   "source": [
    "data_year=data.groupby('year').mean()"
   ]
  },
  {
   "cell_type": "markdown",
   "metadata": {},
   "source": [
    "You will notice that some columns are pointless, like the day column.\n",
    "\n",
    "To create a DataFrame selecting only the columns you care about the syntax is as follows"
   ]
  },
  {
   "cell_type": "code",
   "execution_count": 69,
   "metadata": {
    "collapsed": false
   },
   "outputs": [],
   "source": [
    "data_year=data_year[['Tav']]"
   ]
  },
  {
   "cell_type": "markdown",
   "metadata": {},
   "source": [
    "To save the DataFrame *data* into a file named 'data.csv' write:"
   ]
  },
  {
   "cell_type": "code",
   "execution_count": 72,
   "metadata": {
    "collapsed": false
   },
   "outputs": [],
   "source": [
    "data.to_csv('data.csv')"
   ]
  },
  {
   "cell_type": "markdown",
   "metadata": {},
   "source": [
    "### Write your code here"
   ]
  },
  {
   "cell_type": "code",
   "execution_count": null,
   "metadata": {
    "collapsed": false
   },
   "outputs": [],
   "source": []
  },
  {
   "cell_type": "markdown",
   "metadata": {},
   "source": [
    "## Exercise 4 (Bonus)"
   ]
  },
  {
   "cell_type": "markdown",
   "metadata": {},
   "source": [
    "Calculate the average temperature of every January of every year and plot it."
   ]
  },
  {
   "cell_type": "markdown",
   "metadata": {},
   "source": [
    "### Tips for exercise 4"
   ]
  },
  {
   "cell_type": "markdown",
   "metadata": {},
   "source": [
    "Pandas allows you to easily filter rows according to a condition set on one of its columns. For example if you want to filter only values from year *2015*"
   ]
  },
  {
   "cell_type": "code",
   "execution_count": 101,
   "metadata": {
    "collapsed": false
   },
   "outputs": [],
   "source": [
    "data_filtered=data[data['year']==2015]"
   ]
  },
  {
   "cell_type": "markdown",
   "metadata": {},
   "source": [
    "### Write your code here:"
   ]
  },
  {
   "cell_type": "code",
   "execution_count": null,
   "metadata": {
    "collapsed": false
   },
   "outputs": [],
   "source": []
  }
 ],
 "metadata": {
  "kernelspec": {
   "display_name": "Python 2",
   "language": "python",
   "name": "python2"
  },
  "language_info": {
   "codemirror_mode": {
    "name": "ipython",
    "version": 2
   },
   "file_extension": ".py",
   "mimetype": "text/x-python",
   "name": "python",
   "nbconvert_exporter": "python",
   "pygments_lexer": "ipython2",
   "version": "2.7.12"
  }
 },
 "nbformat": 4,
 "nbformat_minor": 0
}
